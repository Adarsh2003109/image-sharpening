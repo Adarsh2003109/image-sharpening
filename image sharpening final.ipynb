{
 "cells": [
  {
   "cell_type": "code",
   "execution_count": null,
   "id": "8a6861fc-7371-477a-a929-6eb260a266bc",
   "metadata": {},
   "outputs": [],
   "source": [
    "# First, uninstall existing PyTorch\n",
    "!pip uninstall -y torch torchvision torchaudio\n",
    "\n",
    "# Install PyTorch with CUDA 12.1 support (for RTX 4060)\n",
    "!pip install torch torchvision torchaudio --index-url https://download.pytorch.org/whl/cu121\n",
    "\n",
    "# Verify installation\n",
    "import torch\n",
    "print(f\"\\nPyTorch version: {torch.__version__}\")\n",
    "print(f\"CUDA available: {torch.cuda.is_available()}\")\n",
    "if torch.cuda.is_available():\n",
    "    print(f\"GPU: {torch.cuda.get_device_name(0)}\")\n",
    "    print(f\"VRAM: {torch.cuda.get_device_properties(0).total_memory/1024**3:.2f} GB\")"
   ]
  },
  {
   "cell_type": "code",
   "execution_count": null,
   "id": "01cbf3b4-198c-47b1-b9ff-472c3c273fbd",
   "metadata": {},
   "outputs": [],
   "source": [
    "!pip uninstall sympy -y\n",
    "!pip install sympy\n"
   ]
  },
  {
   "cell_type": "code",
   "execution_count": null,
   "id": "b0aaff82-2bcb-4835-b260-8a8adb923490",
   "metadata": {},
   "outputs": [],
   "source": [
    "!pip install torch torchvision torchaudio --index-url https://download.pytorch.org/whl/cu121\n"
   ]
  },
  {
   "cell_type": "code",
   "execution_count": null,
   "id": "f4443203-9e93-417e-a711-e86c101f101e",
   "metadata": {},
   "outputs": [],
   "source": [
    "import torch\n",
    "\n",
    "print(f\"\\nPyTorch version: {torch.__version__}\")\n",
    "print(f\"CUDA available: {torch.cuda.is_available()}\")\n",
    "\n",
    "if torch.cuda.is_available():\n",
    "    print(f\"GPU: {torch.cuda.get_device_name(0)}\")\n",
    "    print(f\"VRAM: {torch.cuda.get_device_properties(0).total_memory / 1024**3:.2f} GB\")\n",
    "\n"
   ]
  },
  {
   "cell_type": "code",
   "execution_count": null,
   "id": "82e6f47f-9e1c-449e-93e7-aa74160458d0",
   "metadata": {},
   "outputs": [],
   "source": [
    "!pip install gradio\n"
   ]
  },
  {
   "cell_type": "code",
   "execution_count": null,
   "id": "d5096fcd-0697-41da-ac53-c8f7baa5cf84",
   "metadata": {},
   "outputs": [],
   "source": [
    "!pip install kornia\n"
   ]
  },
  {
   "cell_type": "code",
   "execution_count": 1,
   "id": "ae6b0927-2598-43de-a167-361d0019458b",
   "metadata": {},
   "outputs": [
    {
     "name": "stdout",
     "output_type": "stream",
     "text": [
      "PyTorch version: 2.5.1+cu121\n",
      "CUDA available: True\n",
      "GPU: NVIDIA GeForce RTX 4060 Laptop GPU\n",
      "VRAM: 8.00 GB\n",
      "\n",
      "Path verification:\n",
      "TRAIN_BLUR: ✅ C:\\Users\\Lenovo\\Downloads\\image_sharpening_kd_project (2)\\image_sharpening_kd_project\\data\\Gopro\\train\\blur\n",
      "   Contains 2103 files\n",
      "TRAIN_SHARP: ✅ C:\\Users\\Lenovo\\Downloads\\image_sharpening_kd_project (2)\\image_sharpening_kd_project\\data\\Gopro\\train\\sharp\n",
      "   Contains 2103 files\n",
      "TEST_BLUR: ✅ C:\\Users\\Lenovo\\Downloads\\image_sharpening_kd_project (2)\\image_sharpening_kd_project\\data\\Gopro\\test\\blur\n",
      "   Contains 1111 files\n",
      "TEST_SHARP: ✅ C:\\Users\\Lenovo\\Downloads\\image_sharpening_kd_project (2)\\image_sharpening_kd_project\\data\\Gopro\\test\\sharp\n",
      "   Contains 1111 files\n",
      "Added Restormer to safe globals for secure model loading\n",
      "Teacher parameters: 26.13M\n",
      "Student parameters: 0.47M\n",
      "Teacher test output shape: torch.Size([1, 3, 256, 256])\n",
      "Student test output shape: torch.Size([1, 3, 256, 256])\n",
      "Loading preloaded dataset from cache: train_dataset_cache.pkl\n",
      "Loading preloaded dataset from cache: test_dataset_cache.pkl\n",
      "Batch shape: torch.Size([8, 3, 256, 256])\n",
      "Saved sample images to debug/ folder!\n",
      "Starting training...\n"
     ]
    },
    {
     "name": "stderr",
     "output_type": "stream",
     "text": [
      "Epoch 1/100: 100%|███████████████████████████████████████████████████████| 263/263 [06:38<00:00,  1.51s/it, loss=0.106]\n"
     ]
    },
    {
     "name": "stdout",
     "output_type": "stream",
     "text": [
      "Saved best model (SSIM: 0.7461)\n",
      "Epoch 1/100 | Loss: 0.1889 | SSIM: 0.7461\n",
      "Saved checkpoint at epoch 0\n",
      "GPU Memory: 0.14/8.00 GB (1.7%)\n"
     ]
    },
    {
     "name": "stderr",
     "output_type": "stream",
     "text": [
      "Epoch 2/100: 100%|██████████████████████████████████████████████████████| 263/263 [05:56<00:00,  1.35s/it, loss=0.0978]\n"
     ]
    },
    {
     "name": "stdout",
     "output_type": "stream",
     "text": [
      "Saved best model (SSIM: 0.7571)\n",
      "Epoch 2/100 | Loss: 0.1068 | SSIM: 0.7571\n",
      "Saved checkpoint at epoch 1\n",
      "GPU Memory: 0.14/8.00 GB (1.7%)\n"
     ]
    },
    {
     "name": "stderr",
     "output_type": "stream",
     "text": [
      "Epoch 3/100: 100%|█████████████████████████████████████████████████████████| 263/263 [05:02<00:00,  1.15s/it, loss=0.1]\n"
     ]
    },
    {
     "name": "stdout",
     "output_type": "stream",
     "text": [
      "Saved best model (SSIM: 0.7579)\n",
      "Epoch 3/100 | Loss: 0.0987 | SSIM: 0.7579\n",
      "Saved checkpoint at epoch 2\n",
      "GPU Memory: 0.14/8.00 GB (1.7%)\n"
     ]
    },
    {
     "name": "stderr",
     "output_type": "stream",
     "text": [
      "Epoch 4/100: 100%|██████████████████████████████████████████████████████| 263/263 [05:06<00:00,  1.17s/it, loss=0.0734]\n"
     ]
    },
    {
     "name": "stdout",
     "output_type": "stream",
     "text": [
      "Saved best model (SSIM: 0.7584)\n",
      "Epoch 4/100 | Loss: 0.0965 | SSIM: 0.7584\n",
      "Saved checkpoint at epoch 3\n",
      "GPU Memory: 0.14/8.00 GB (1.7%)\n"
     ]
    },
    {
     "name": "stderr",
     "output_type": "stream",
     "text": [
      "Epoch 5/100: 100%|███████████████████████████████████████████████████████| 263/263 [04:52<00:00,  1.11s/it, loss=0.111]\n"
     ]
    },
    {
     "name": "stdout",
     "output_type": "stream",
     "text": [
      "Saved best model (SSIM: 0.7597)\n",
      "Epoch 5/100 | Loss: 0.0947 | SSIM: 0.7597\n",
      "Saved checkpoint at epoch 4\n",
      "GPU Memory: 0.14/8.00 GB (1.7%)\n"
     ]
    },
    {
     "name": "stderr",
     "output_type": "stream",
     "text": [
      "Epoch 6/100: 100%|██████████████████████████████████████████████████████| 263/263 [04:52<00:00,  1.11s/it, loss=0.0781]\n"
     ]
    },
    {
     "name": "stdout",
     "output_type": "stream",
     "text": [
      "Epoch 6/100 | Loss: 0.0973 | SSIM: 0.7596\n",
      "Saved checkpoint at epoch 5\n",
      "GPU Memory: 0.14/8.00 GB (1.7%)\n"
     ]
    },
    {
     "name": "stderr",
     "output_type": "stream",
     "text": [
      "Epoch 7/100: 100%|██████████████████████████████████████████████████████| 263/263 [04:50<00:00,  1.10s/it, loss=0.0714]\n"
     ]
    },
    {
     "name": "stdout",
     "output_type": "stream",
     "text": [
      "Saved best model (SSIM: 0.7600)\n",
      "Epoch 7/100 | Loss: 0.0953 | SSIM: 0.7600\n",
      "Saved checkpoint at epoch 6\n",
      "GPU Memory: 0.14/8.00 GB (1.7%)\n"
     ]
    },
    {
     "name": "stderr",
     "output_type": "stream",
     "text": [
      "Epoch 8/100: 100%|███████████████████████████████████████████████████████| 263/263 [04:52<00:00,  1.11s/it, loss=0.123]\n"
     ]
    },
    {
     "name": "stdout",
     "output_type": "stream",
     "text": [
      "Epoch 8/100 | Loss: 0.0949 | SSIM: 0.7595\n",
      "Saved checkpoint at epoch 7\n",
      "GPU Memory: 0.14/8.00 GB (1.7%)\n"
     ]
    },
    {
     "name": "stderr",
     "output_type": "stream",
     "text": [
      "Epoch 9/100: 100%|██████████████████████████████████████████████████████| 263/263 [04:50<00:00,  1.10s/it, loss=0.0767]\n"
     ]
    },
    {
     "name": "stdout",
     "output_type": "stream",
     "text": [
      "Epoch 9/100 | Loss: 0.0946 | SSIM: 0.7598\n",
      "Saved checkpoint at epoch 8\n",
      "GPU Memory: 0.14/8.00 GB (1.7%)\n"
     ]
    },
    {
     "name": "stderr",
     "output_type": "stream",
     "text": [
      "Epoch 10/100: 100%|█████████████████████████████████████████████████████| 263/263 [04:59<00:00,  1.14s/it, loss=0.0698]\n"
     ]
    },
    {
     "name": "stdout",
     "output_type": "stream",
     "text": [
      "Epoch 10/100 | Loss: 0.0944 | SSIM: 0.7597\n",
      "Saved checkpoint at epoch 9\n",
      "GPU Memory: 0.14/8.00 GB (1.7%)\n"
     ]
    },
    {
     "name": "stderr",
     "output_type": "stream",
     "text": [
      "Epoch 11/100: 100%|█████████████████████████████████████████████████████| 263/263 [04:50<00:00,  1.10s/it, loss=0.0928]\n"
     ]
    },
    {
     "name": "stdout",
     "output_type": "stream",
     "text": [
      "Saved best model (SSIM: 0.7611)\n",
      "Epoch 11/100 | Loss: 0.0951 | SSIM: 0.7611\n",
      "Saved checkpoint at epoch 10\n",
      "GPU Memory: 0.14/8.00 GB (1.7%)\n"
     ]
    },
    {
     "name": "stderr",
     "output_type": "stream",
     "text": [
      "Epoch 12/100: 100%|█████████████████████████████████████████████████████| 263/263 [04:50<00:00,  1.11s/it, loss=0.0682]\n"
     ]
    },
    {
     "name": "stdout",
     "output_type": "stream",
     "text": [
      "Epoch 12/100 | Loss: 0.0932 | SSIM: 0.7604\n",
      "Saved checkpoint at epoch 11\n",
      "GPU Memory: 0.14/8.00 GB (1.7%)\n"
     ]
    },
    {
     "name": "stderr",
     "output_type": "stream",
     "text": [
      "Epoch 13/100: 100%|██████████████████████████████████████████████████████| 263/263 [04:50<00:00,  1.11s/it, loss=0.132]\n"
     ]
    },
    {
     "name": "stdout",
     "output_type": "stream",
     "text": [
      "Epoch 13/100 | Loss: 0.0936 | SSIM: 0.7594\n",
      "Saved checkpoint at epoch 12\n",
      "GPU Memory: 0.14/8.00 GB (1.7%)\n"
     ]
    },
    {
     "name": "stderr",
     "output_type": "stream",
     "text": [
      "Epoch 14/100: 100%|█████████████████████████████████████████████████████| 263/263 [04:50<00:00,  1.10s/it, loss=0.0821]\n"
     ]
    },
    {
     "name": "stdout",
     "output_type": "stream",
     "text": [
      "Saved best model (SSIM: 0.7617)\n",
      "Epoch 14/100 | Loss: 0.0955 | SSIM: 0.7617\n",
      "Saved checkpoint at epoch 13\n",
      "GPU Memory: 0.14/8.00 GB (1.7%)\n"
     ]
    },
    {
     "name": "stderr",
     "output_type": "stream",
     "text": [
      "Epoch 15/100: 100%|█████████████████████████████████████████████████████| 263/263 [04:50<00:00,  1.10s/it, loss=0.0623]\n"
     ]
    },
    {
     "name": "stdout",
     "output_type": "stream",
     "text": [
      "Epoch 15/100 | Loss: 0.0939 | SSIM: 0.7608\n",
      "Saved checkpoint at epoch 14\n",
      "GPU Memory: 0.14/8.00 GB (1.7%)\n"
     ]
    },
    {
     "name": "stderr",
     "output_type": "stream",
     "text": [
      "Epoch 16/100: 100%|█████████████████████████████████████████████████████| 263/263 [04:50<00:00,  1.11s/it, loss=0.0809]\n"
     ]
    },
    {
     "name": "stdout",
     "output_type": "stream",
     "text": [
      "Epoch 16/100 | Loss: 0.0931 | SSIM: 0.7612\n",
      "Saved checkpoint at epoch 15\n",
      "GPU Memory: 0.14/8.00 GB (1.7%)\n"
     ]
    },
    {
     "name": "stderr",
     "output_type": "stream",
     "text": [
      "Epoch 17/100: 100%|███████████████████████████████████████████████████████| 263/263 [04:50<00:00,  1.10s/it, loss=0.11]\n"
     ]
    },
    {
     "name": "stdout",
     "output_type": "stream",
     "text": [
      "Epoch 17/100 | Loss: 0.0940 | SSIM: 0.7601\n",
      "Saved checkpoint at epoch 16\n",
      "GPU Memory: 0.14/8.00 GB (1.7%)\n"
     ]
    },
    {
     "name": "stderr",
     "output_type": "stream",
     "text": [
      "Epoch 18/100: 100%|██████████████████████████████████████████████████████| 263/263 [04:50<00:00,  1.11s/it, loss=0.108]\n"
     ]
    },
    {
     "name": "stdout",
     "output_type": "stream",
     "text": [
      "Saved best model (SSIM: 0.7624)\n",
      "Epoch 18/100 | Loss: 0.0938 | SSIM: 0.7624\n",
      "Saved checkpoint at epoch 17\n",
      "GPU Memory: 0.14/8.00 GB (1.7%)\n"
     ]
    },
    {
     "name": "stderr",
     "output_type": "stream",
     "text": [
      "Epoch 19/100: 100%|█████████████████████████████████████████████████████| 263/263 [04:50<00:00,  1.10s/it, loss=0.0787]\n"
     ]
    },
    {
     "name": "stdout",
     "output_type": "stream",
     "text": [
      "Epoch 19/100 | Loss: 0.0933 | SSIM: 0.7619\n",
      "Saved checkpoint at epoch 18\n",
      "GPU Memory: 0.14/8.00 GB (1.7%)\n"
     ]
    },
    {
     "name": "stderr",
     "output_type": "stream",
     "text": [
      "Epoch 20/100: 100%|█████████████████████████████████████████████████████| 263/263 [04:49<00:00,  1.10s/it, loss=0.0749]\n"
     ]
    },
    {
     "name": "stdout",
     "output_type": "stream",
     "text": [
      "Saved best model (SSIM: 0.7629)\n",
      "Epoch 20/100 | Loss: 0.0936 | SSIM: 0.7629\n",
      "Saved checkpoint at epoch 19\n",
      "GPU Memory: 0.14/8.00 GB (1.7%)\n"
     ]
    },
    {
     "name": "stderr",
     "output_type": "stream",
     "text": [
      "Epoch 21/100: 100%|██████████████████████████████████████████████████████| 263/263 [04:50<00:00,  1.10s/it, loss=0.137]\n"
     ]
    },
    {
     "name": "stdout",
     "output_type": "stream",
     "text": [
      "Saved best model (SSIM: 0.7630)\n",
      "Epoch 21/100 | Loss: 0.0929 | SSIM: 0.7630\n",
      "Saved checkpoint at epoch 20\n",
      "GPU Memory: 0.14/8.00 GB (1.7%)\n"
     ]
    },
    {
     "name": "stderr",
     "output_type": "stream",
     "text": [
      "Epoch 22/100: 100%|█████████████████████████████████████████████████████| 263/263 [04:49<00:00,  1.10s/it, loss=0.0821]\n"
     ]
    },
    {
     "name": "stdout",
     "output_type": "stream",
     "text": [
      "Epoch 22/100 | Loss: 0.0933 | SSIM: 0.7619\n",
      "Saved checkpoint at epoch 21\n",
      "GPU Memory: 0.14/8.00 GB (1.7%)\n"
     ]
    },
    {
     "name": "stderr",
     "output_type": "stream",
     "text": [
      "Epoch 23/100: 100%|█████████████████████████████████████████████████████| 263/263 [04:50<00:00,  1.11s/it, loss=0.0888]\n"
     ]
    },
    {
     "name": "stdout",
     "output_type": "stream",
     "text": [
      "Epoch 23/100 | Loss: 0.0926 | SSIM: 0.7626\n",
      "Saved checkpoint at epoch 22\n",
      "GPU Memory: 0.14/8.00 GB (1.7%)\n"
     ]
    },
    {
     "name": "stderr",
     "output_type": "stream",
     "text": [
      "Epoch 24/100: 100%|█████████████████████████████████████████████████████| 263/263 [04:49<00:00,  1.10s/it, loss=0.0784]\n"
     ]
    },
    {
     "name": "stdout",
     "output_type": "stream",
     "text": [
      "Saved best model (SSIM: 0.7635)\n",
      "Epoch 24/100 | Loss: 0.0918 | SSIM: 0.7635\n",
      "Saved checkpoint at epoch 23\n",
      "GPU Memory: 0.14/8.00 GB (1.7%)\n"
     ]
    },
    {
     "name": "stderr",
     "output_type": "stream",
     "text": [
      "Epoch 25/100: 100%|█████████████████████████████████████████████████████| 263/263 [04:50<00:00,  1.10s/it, loss=0.0795]\n"
     ]
    },
    {
     "name": "stdout",
     "output_type": "stream",
     "text": [
      "Epoch 25/100 | Loss: 0.0926 | SSIM: 0.7626\n",
      "Saved checkpoint at epoch 24\n",
      "GPU Memory: 0.14/8.00 GB (1.7%)\n"
     ]
    },
    {
     "name": "stderr",
     "output_type": "stream",
     "text": [
      "Epoch 26/100: 100%|██████████████████████████████████████████████████████| 263/263 [04:49<00:00,  1.10s/it, loss=0.127]\n"
     ]
    },
    {
     "name": "stdout",
     "output_type": "stream",
     "text": [
      "Epoch 26/100 | Loss: 0.0924 | SSIM: 0.7633\n",
      "Saved checkpoint at epoch 25\n",
      "GPU Memory: 0.14/8.00 GB (1.7%)\n"
     ]
    },
    {
     "name": "stderr",
     "output_type": "stream",
     "text": [
      "Epoch 27/100: 100%|█████████████████████████████████████████████████████| 263/263 [04:49<00:00,  1.10s/it, loss=0.0804]\n"
     ]
    },
    {
     "name": "stdout",
     "output_type": "stream",
     "text": [
      "Epoch 27/100 | Loss: 0.0926 | SSIM: 0.7622\n",
      "Saved checkpoint at epoch 26\n",
      "GPU Memory: 0.14/8.00 GB (1.7%)\n"
     ]
    },
    {
     "name": "stderr",
     "output_type": "stream",
     "text": [
      "Epoch 28/100: 100%|██████████████████████████████████████████████████████| 263/263 [04:48<00:00,  1.10s/it, loss=0.111]\n"
     ]
    },
    {
     "name": "stdout",
     "output_type": "stream",
     "text": [
      "Saved best model (SSIM: 0.7648)\n",
      "Epoch 28/100 | Loss: 0.0930 | SSIM: 0.7648\n",
      "Saved checkpoint at epoch 27\n",
      "GPU Memory: 0.14/8.00 GB (1.7%)\n"
     ]
    },
    {
     "name": "stderr",
     "output_type": "stream",
     "text": [
      "Epoch 29/100: 100%|██████████████████████████████████████████████████████| 263/263 [04:50<00:00,  1.10s/it, loss=0.101]\n"
     ]
    },
    {
     "name": "stdout",
     "output_type": "stream",
     "text": [
      "Saved best model (SSIM: 0.7649)\n",
      "Epoch 29/100 | Loss: 0.0924 | SSIM: 0.7649\n",
      "Saved checkpoint at epoch 28\n",
      "GPU Memory: 0.14/8.00 GB (1.7%)\n"
     ]
    },
    {
     "name": "stderr",
     "output_type": "stream",
     "text": [
      "Epoch 30/100: 100%|█████████████████████████████████████████████████████| 263/263 [04:50<00:00,  1.10s/it, loss=0.0703]\n"
     ]
    },
    {
     "name": "stdout",
     "output_type": "stream",
     "text": [
      "Saved best model (SSIM: 0.7650)\n",
      "Epoch 30/100 | Loss: 0.0914 | SSIM: 0.7650\n",
      "Saved checkpoint at epoch 29\n",
      "GPU Memory: 0.14/8.00 GB (1.7%)\n"
     ]
    },
    {
     "name": "stderr",
     "output_type": "stream",
     "text": [
      "Epoch 31/100: 100%|█████████████████████████████████████████████████████| 263/263 [04:49<00:00,  1.10s/it, loss=0.0757]\n"
     ]
    },
    {
     "name": "stdout",
     "output_type": "stream",
     "text": [
      "Epoch 31/100 | Loss: 0.0916 | SSIM: 0.7620\n",
      "Saved checkpoint at epoch 30\n",
      "GPU Memory: 0.14/8.00 GB (1.7%)\n"
     ]
    },
    {
     "name": "stderr",
     "output_type": "stream",
     "text": [
      "Epoch 32/100: 100%|██████████████████████████████████████████████████████| 263/263 [04:48<00:00,  1.10s/it, loss=0.122]\n"
     ]
    },
    {
     "name": "stdout",
     "output_type": "stream",
     "text": [
      "Epoch 32/100 | Loss: 0.0911 | SSIM: 0.7645\n",
      "Saved checkpoint at epoch 31\n",
      "GPU Memory: 0.14/8.00 GB (1.7%)\n"
     ]
    },
    {
     "name": "stderr",
     "output_type": "stream",
     "text": [
      "Epoch 33/100: 100%|█████████████████████████████████████████████████████| 263/263 [04:49<00:00,  1.10s/it, loss=0.0876]\n"
     ]
    },
    {
     "name": "stdout",
     "output_type": "stream",
     "text": [
      "Saved best model (SSIM: 0.7652)\n",
      "Epoch 33/100 | Loss: 0.0915 | SSIM: 0.7652\n",
      "Saved checkpoint at epoch 32\n",
      "GPU Memory: 0.14/8.00 GB (1.7%)\n"
     ]
    },
    {
     "name": "stderr",
     "output_type": "stream",
     "text": [
      "Epoch 34/100: 100%|█████████████████████████████████████████████████████| 263/263 [04:50<00:00,  1.10s/it, loss=0.0844]\n"
     ]
    },
    {
     "name": "stdout",
     "output_type": "stream",
     "text": [
      "Saved best model (SSIM: 0.7657)\n",
      "Epoch 34/100 | Loss: 0.0923 | SSIM: 0.7657\n",
      "Saved checkpoint at epoch 33\n",
      "GPU Memory: 0.14/8.00 GB (1.7%)\n"
     ]
    },
    {
     "name": "stderr",
     "output_type": "stream",
     "text": [
      "Epoch 35/100: 100%|█████████████████████████████████████████████████████| 263/263 [05:04<00:00,  1.16s/it, loss=0.0795]\n"
     ]
    },
    {
     "name": "stdout",
     "output_type": "stream",
     "text": [
      "Epoch 35/100 | Loss: 0.0922 | SSIM: 0.7643\n",
      "Saved checkpoint at epoch 34\n",
      "GPU Memory: 0.14/8.00 GB (1.7%)\n"
     ]
    },
    {
     "name": "stderr",
     "output_type": "stream",
     "text": [
      "Epoch 36/100: 100%|█████████████████████████████████████████████████████| 263/263 [04:48<00:00,  1.10s/it, loss=0.0636]\n"
     ]
    },
    {
     "name": "stdout",
     "output_type": "stream",
     "text": [
      "Epoch 36/100 | Loss: 0.0916 | SSIM: 0.7641\n",
      "Saved checkpoint at epoch 35\n",
      "GPU Memory: 0.14/8.00 GB (1.7%)\n"
     ]
    },
    {
     "name": "stderr",
     "output_type": "stream",
     "text": [
      "Epoch 37/100: 100%|█████████████████████████████████████████████████████| 263/263 [04:49<00:00,  1.10s/it, loss=0.0966]\n"
     ]
    },
    {
     "name": "stdout",
     "output_type": "stream",
     "text": [
      "Epoch 37/100 | Loss: 0.0903 | SSIM: 0.7647\n",
      "Saved checkpoint at epoch 36\n",
      "GPU Memory: 0.14/8.00 GB (1.7%)\n"
     ]
    },
    {
     "name": "stderr",
     "output_type": "stream",
     "text": [
      "Epoch 38/100: 100%|██████████████████████████████████████████████████████| 263/263 [04:48<00:00,  1.10s/it, loss=0.116]\n"
     ]
    },
    {
     "name": "stdout",
     "output_type": "stream",
     "text": [
      "Saved best model (SSIM: 0.7658)\n",
      "Epoch 38/100 | Loss: 0.0906 | SSIM: 0.7658\n",
      "Saved checkpoint at epoch 37\n",
      "GPU Memory: 0.14/8.00 GB (1.7%)\n"
     ]
    },
    {
     "name": "stderr",
     "output_type": "stream",
     "text": [
      "Epoch 39/100: 100%|██████████████████████████████████████████████████████| 263/263 [04:49<00:00,  1.10s/it, loss=0.105]\n"
     ]
    },
    {
     "name": "stdout",
     "output_type": "stream",
     "text": [
      "Epoch 39/100 | Loss: 0.0914 | SSIM: 0.7656\n",
      "Saved checkpoint at epoch 38\n",
      "GPU Memory: 0.14/8.00 GB (1.7%)\n"
     ]
    },
    {
     "name": "stderr",
     "output_type": "stream",
     "text": [
      "Epoch 40/100: 100%|██████████████████████████████████████████████████████| 263/263 [04:49<00:00,  1.10s/it, loss=0.111]\n"
     ]
    },
    {
     "name": "stdout",
     "output_type": "stream",
     "text": [
      "Saved best model (SSIM: 0.7661)\n",
      "Epoch 40/100 | Loss: 0.0908 | SSIM: 0.7661\n",
      "Saved checkpoint at epoch 39\n",
      "GPU Memory: 0.14/8.00 GB (1.7%)\n"
     ]
    },
    {
     "name": "stderr",
     "output_type": "stream",
     "text": [
      "Epoch 41/100: 100%|█████████████████████████████████████████████████████| 263/263 [04:49<00:00,  1.10s/it, loss=0.0697]\n"
     ]
    },
    {
     "name": "stdout",
     "output_type": "stream",
     "text": [
      "Saved best model (SSIM: 0.7662)\n",
      "Epoch 41/100 | Loss: 0.0915 | SSIM: 0.7662\n",
      "Saved checkpoint at epoch 40\n",
      "GPU Memory: 0.14/8.00 GB (1.7%)\n"
     ]
    },
    {
     "name": "stderr",
     "output_type": "stream",
     "text": [
      "Epoch 42/100: 100%|█████████████████████████████████████████████████████| 263/263 [04:49<00:00,  1.10s/it, loss=0.0951]\n"
     ]
    },
    {
     "name": "stdout",
     "output_type": "stream",
     "text": [
      "Epoch 42/100 | Loss: 0.0905 | SSIM: 0.7649\n",
      "Saved checkpoint at epoch 41\n",
      "GPU Memory: 0.14/8.00 GB (1.7%)\n"
     ]
    },
    {
     "name": "stderr",
     "output_type": "stream",
     "text": [
      "Epoch 43/100: 100%|██████████████████████████████████████████████████████| 263/263 [04:49<00:00,  1.10s/it, loss=0.117]\n"
     ]
    },
    {
     "name": "stdout",
     "output_type": "stream",
     "text": [
      "Epoch 43/100 | Loss: 0.0908 | SSIM: 0.7654\n",
      "Saved checkpoint at epoch 42\n",
      "GPU Memory: 0.14/8.00 GB (1.7%)\n"
     ]
    },
    {
     "name": "stderr",
     "output_type": "stream",
     "text": [
      "Epoch 44/100: 100%|█████████████████████████████████████████████████████| 263/263 [04:49<00:00,  1.10s/it, loss=0.0703]\n"
     ]
    },
    {
     "name": "stdout",
     "output_type": "stream",
     "text": [
      "Saved best model (SSIM: 0.7665)\n",
      "Epoch 44/100 | Loss: 0.0909 | SSIM: 0.7665\n",
      "Saved checkpoint at epoch 43\n",
      "GPU Memory: 0.14/8.00 GB (1.7%)\n"
     ]
    },
    {
     "name": "stderr",
     "output_type": "stream",
     "text": [
      "Epoch 45/100: 100%|██████████████████████████████████████████████████████| 263/263 [04:52<00:00,  1.11s/it, loss=0.065]\n"
     ]
    },
    {
     "name": "stdout",
     "output_type": "stream",
     "text": [
      "Saved best model (SSIM: 0.7679)\n",
      "Epoch 45/100 | Loss: 0.0902 | SSIM: 0.7679\n",
      "Saved checkpoint at epoch 44\n",
      "GPU Memory: 0.14/8.00 GB (1.7%)\n"
     ]
    },
    {
     "name": "stderr",
     "output_type": "stream",
     "text": [
      "Epoch 46/100: 100%|█████████████████████████████████████████████████████| 263/263 [04:53<00:00,  1.12s/it, loss=0.0765]\n"
     ]
    },
    {
     "name": "stdout",
     "output_type": "stream",
     "text": [
      "Epoch 46/100 | Loss: 0.0900 | SSIM: 0.7672\n",
      "Saved checkpoint at epoch 45\n",
      "GPU Memory: 0.14/8.00 GB (1.7%)\n"
     ]
    },
    {
     "name": "stderr",
     "output_type": "stream",
     "text": [
      "Epoch 47/100: 100%|█████████████████████████████████████████████████████| 263/263 [04:49<00:00,  1.10s/it, loss=0.0831]\n"
     ]
    },
    {
     "name": "stdout",
     "output_type": "stream",
     "text": [
      "Epoch 47/100 | Loss: 0.0911 | SSIM: 0.7653\n",
      "Saved checkpoint at epoch 46\n",
      "GPU Memory: 0.14/8.00 GB (1.7%)\n"
     ]
    },
    {
     "name": "stderr",
     "output_type": "stream",
     "text": [
      "Epoch 48/100: 100%|█████████████████████████████████████████████████████| 263/263 [04:49<00:00,  1.10s/it, loss=0.0894]\n"
     ]
    },
    {
     "name": "stdout",
     "output_type": "stream",
     "text": [
      "Epoch 48/100 | Loss: 0.0892 | SSIM: 0.7665\n",
      "Saved checkpoint at epoch 47\n",
      "GPU Memory: 0.14/8.00 GB (1.7%)\n"
     ]
    },
    {
     "name": "stderr",
     "output_type": "stream",
     "text": [
      "Epoch 49/100: 100%|██████████████████████████████████████████████████████| 263/263 [04:50<00:00,  1.10s/it, loss=0.123]\n"
     ]
    },
    {
     "name": "stdout",
     "output_type": "stream",
     "text": [
      "Epoch 49/100 | Loss: 0.0905 | SSIM: 0.7658\n",
      "Saved checkpoint at epoch 48\n",
      "GPU Memory: 0.14/8.00 GB (1.7%)\n"
     ]
    },
    {
     "name": "stderr",
     "output_type": "stream",
     "text": [
      "Epoch 50/100: 100%|█████████████████████████████████████████████████████| 263/263 [04:49<00:00,  1.10s/it, loss=0.0573]\n"
     ]
    },
    {
     "name": "stdout",
     "output_type": "stream",
     "text": [
      "Epoch 50/100 | Loss: 0.0904 | SSIM: 0.7670\n",
      "Saved checkpoint at epoch 49\n",
      "GPU Memory: 0.14/8.00 GB (1.7%)\n"
     ]
    },
    {
     "name": "stderr",
     "output_type": "stream",
     "text": [
      "Epoch 51/100: 100%|█████████████████████████████████████████████████████| 263/263 [04:49<00:00,  1.10s/it, loss=0.0815]\n"
     ]
    },
    {
     "name": "stdout",
     "output_type": "stream",
     "text": [
      "Epoch 51/100 | Loss: 0.0907 | SSIM: 0.7660\n",
      "Saved checkpoint at epoch 50\n",
      "GPU Memory: 0.14/8.00 GB (1.7%)\n"
     ]
    },
    {
     "name": "stderr",
     "output_type": "stream",
     "text": [
      "Epoch 52/100: 100%|█████████████████████████████████████████████████████| 263/263 [04:49<00:00,  1.10s/it, loss=0.0848]\n"
     ]
    },
    {
     "name": "stdout",
     "output_type": "stream",
     "text": [
      "Epoch 52/100 | Loss: 0.0887 | SSIM: 0.7675\n",
      "Saved checkpoint at epoch 51\n",
      "GPU Memory: 0.14/8.00 GB (1.7%)\n"
     ]
    },
    {
     "name": "stderr",
     "output_type": "stream",
     "text": [
      "Epoch 53/100: 100%|█████████████████████████████████████████████████████| 263/263 [04:50<00:00,  1.10s/it, loss=0.0676]\n"
     ]
    },
    {
     "name": "stdout",
     "output_type": "stream",
     "text": [
      "Epoch 53/100 | Loss: 0.0907 | SSIM: 0.7659\n",
      "Saved checkpoint at epoch 52\n",
      "GPU Memory: 0.14/8.00 GB (1.7%)\n"
     ]
    },
    {
     "name": "stderr",
     "output_type": "stream",
     "text": [
      "Epoch 54/100: 100%|██████████████████████████████████████████████████████| 263/263 [04:50<00:00,  1.10s/it, loss=0.102]\n"
     ]
    },
    {
     "name": "stdout",
     "output_type": "stream",
     "text": [
      "Saved best model (SSIM: 0.7679)\n",
      "Epoch 54/100 | Loss: 0.0887 | SSIM: 0.7679\n",
      "Saved checkpoint at epoch 53\n",
      "GPU Memory: 0.14/8.00 GB (1.7%)\n"
     ]
    },
    {
     "name": "stderr",
     "output_type": "stream",
     "text": [
      "Epoch 55/100: 100%|██████████████████████████████████████████████████████| 263/263 [04:49<00:00,  1.10s/it, loss=0.103]\n"
     ]
    },
    {
     "name": "stdout",
     "output_type": "stream",
     "text": [
      "Epoch 55/100 | Loss: 0.0905 | SSIM: 0.7665\n",
      "Saved checkpoint at epoch 54\n",
      "GPU Memory: 0.14/8.00 GB (1.7%)\n"
     ]
    },
    {
     "name": "stderr",
     "output_type": "stream",
     "text": [
      "Epoch 56/100: 100%|█████████████████████████████████████████████████████| 263/263 [04:50<00:00,  1.11s/it, loss=0.0839]\n"
     ]
    },
    {
     "name": "stdout",
     "output_type": "stream",
     "text": [
      "Epoch 56/100 | Loss: 0.0894 | SSIM: 0.7673\n",
      "Saved checkpoint at epoch 55\n",
      "GPU Memory: 0.14/8.00 GB (1.7%)\n"
     ]
    },
    {
     "name": "stderr",
     "output_type": "stream",
     "text": [
      "Epoch 57/100: 100%|█████████████████████████████████████████████████████| 263/263 [04:48<00:00,  1.10s/it, loss=0.0956]\n"
     ]
    },
    {
     "name": "stdout",
     "output_type": "stream",
     "text": [
      "Epoch 57/100 | Loss: 0.0894 | SSIM: 0.7665\n",
      "Saved checkpoint at epoch 56\n",
      "GPU Memory: 0.14/8.00 GB (1.7%)\n"
     ]
    },
    {
     "name": "stderr",
     "output_type": "stream",
     "text": [
      "Epoch 58/100: 100%|██████████████████████████████████████████████████████| 263/263 [04:49<00:00,  1.10s/it, loss=0.116]\n"
     ]
    },
    {
     "name": "stdout",
     "output_type": "stream",
     "text": [
      "Saved best model (SSIM: 0.7685)\n",
      "Epoch 58/100 | Loss: 0.0902 | SSIM: 0.7685\n",
      "Saved checkpoint at epoch 57\n",
      "GPU Memory: 0.14/8.00 GB (1.7%)\n"
     ]
    },
    {
     "name": "stderr",
     "output_type": "stream",
     "text": [
      "Epoch 59/100: 100%|██████████████████████████████████████████████████████| 263/263 [04:50<00:00,  1.10s/it, loss=0.104]\n"
     ]
    },
    {
     "name": "stdout",
     "output_type": "stream",
     "text": [
      "Epoch 59/100 | Loss: 0.0899 | SSIM: 0.7676\n",
      "Saved checkpoint at epoch 58\n",
      "GPU Memory: 0.14/8.00 GB (1.7%)\n"
     ]
    },
    {
     "name": "stderr",
     "output_type": "stream",
     "text": [
      "Epoch 60/100: 100%|██████████████████████████████████████████████████████| 263/263 [04:49<00:00,  1.10s/it, loss=0.136]\n"
     ]
    },
    {
     "name": "stdout",
     "output_type": "stream",
     "text": [
      "Epoch 60/100 | Loss: 0.0892 | SSIM: 0.7672\n",
      "Saved checkpoint at epoch 59\n",
      "GPU Memory: 0.14/8.00 GB (1.7%)\n"
     ]
    },
    {
     "name": "stderr",
     "output_type": "stream",
     "text": [
      "Epoch 61/100: 100%|███████████████████████████████████████████████████████| 263/263 [04:49<00:00,  1.10s/it, loss=0.11]\n"
     ]
    },
    {
     "name": "stdout",
     "output_type": "stream",
     "text": [
      "Epoch 61/100 | Loss: 0.0877 | SSIM: 0.7672\n",
      "Saved checkpoint at epoch 60\n",
      "GPU Memory: 0.14/8.00 GB (1.7%)\n"
     ]
    },
    {
     "name": "stderr",
     "output_type": "stream",
     "text": [
      "Epoch 62/100: 100%|█████████████████████████████████████████████████████| 263/263 [04:50<00:00,  1.11s/it, loss=0.0879]\n"
     ]
    },
    {
     "name": "stdout",
     "output_type": "stream",
     "text": [
      "Epoch 62/100 | Loss: 0.0889 | SSIM: 0.7682\n",
      "Saved checkpoint at epoch 61\n",
      "GPU Memory: 0.14/8.00 GB (1.7%)\n"
     ]
    },
    {
     "name": "stderr",
     "output_type": "stream",
     "text": [
      "Epoch 63/100: 100%|█████████████████████████████████████████████████████| 263/263 [04:49<00:00,  1.10s/it, loss=0.0803]\n"
     ]
    },
    {
     "name": "stdout",
     "output_type": "stream",
     "text": [
      "Epoch 63/100 | Loss: 0.0894 | SSIM: 0.7680\n",
      "Saved checkpoint at epoch 62\n",
      "GPU Memory: 0.14/8.00 GB (1.7%)\n"
     ]
    },
    {
     "name": "stderr",
     "output_type": "stream",
     "text": [
      "Epoch 64/100: 100%|█████████████████████████████████████████████████████| 263/263 [04:49<00:00,  1.10s/it, loss=0.0844]\n"
     ]
    },
    {
     "name": "stdout",
     "output_type": "stream",
     "text": [
      "Epoch 64/100 | Loss: 0.0888 | SSIM: 0.7672\n",
      "Saved checkpoint at epoch 63\n",
      "GPU Memory: 0.14/8.00 GB (1.7%)\n"
     ]
    },
    {
     "name": "stderr",
     "output_type": "stream",
     "text": [
      "Epoch 65/100: 100%|█████████████████████████████████████████████████████| 263/263 [04:50<00:00,  1.10s/it, loss=0.0952]\n"
     ]
    },
    {
     "name": "stdout",
     "output_type": "stream",
     "text": [
      "Epoch 65/100 | Loss: 0.0887 | SSIM: 0.7680\n",
      "Saved checkpoint at epoch 64\n",
      "GPU Memory: 0.14/8.00 GB (1.7%)\n"
     ]
    },
    {
     "name": "stderr",
     "output_type": "stream",
     "text": [
      "Epoch 66/100: 100%|██████████████████████████████████████████████████████| 263/263 [04:49<00:00,  1.10s/it, loss=0.122]\n"
     ]
    },
    {
     "name": "stdout",
     "output_type": "stream",
     "text": [
      "Epoch 66/100 | Loss: 0.0878 | SSIM: 0.7680\n",
      "Saved checkpoint at epoch 65\n",
      "GPU Memory: 0.14/8.00 GB (1.7%)\n"
     ]
    },
    {
     "name": "stderr",
     "output_type": "stream",
     "text": [
      "Epoch 67/100: 100%|██████████████████████████████████████████████████████| 263/263 [04:49<00:00,  1.10s/it, loss=0.112]\n"
     ]
    },
    {
     "name": "stdout",
     "output_type": "stream",
     "text": [
      "Epoch 67/100 | Loss: 0.0885 | SSIM: 0.7682\n",
      "Saved checkpoint at epoch 66\n",
      "GPU Memory: 0.14/8.00 GB (1.7%)\n"
     ]
    },
    {
     "name": "stderr",
     "output_type": "stream",
     "text": [
      "Epoch 68/100: 100%|█████████████████████████████████████████████████████| 263/263 [04:49<00:00,  1.10s/it, loss=0.0817]\n"
     ]
    },
    {
     "name": "stdout",
     "output_type": "stream",
     "text": [
      "Epoch 68/100 | Loss: 0.0899 | SSIM: 0.7674\n",
      "Saved checkpoint at epoch 67\n",
      "GPU Memory: 0.14/8.00 GB (1.7%)\n"
     ]
    },
    {
     "name": "stderr",
     "output_type": "stream",
     "text": [
      "Epoch 69/100: 100%|█████████████████████████████████████████████████████| 263/263 [04:49<00:00,  1.10s/it, loss=0.0783]\n"
     ]
    },
    {
     "name": "stdout",
     "output_type": "stream",
     "text": [
      "Epoch 69/100 | Loss: 0.0888 | SSIM: 0.7677\n",
      "Saved checkpoint at epoch 68\n",
      "GPU Memory: 0.14/8.00 GB (1.7%)\n"
     ]
    },
    {
     "name": "stderr",
     "output_type": "stream",
     "text": [
      "Epoch 70/100: 100%|█████████████████████████████████████████████████████| 263/263 [04:49<00:00,  1.10s/it, loss=0.0814]\n"
     ]
    },
    {
     "name": "stdout",
     "output_type": "stream",
     "text": [
      "Epoch 70/100 | Loss: 0.0891 | SSIM: 0.7677\n",
      "Saved checkpoint at epoch 69\n",
      "GPU Memory: 0.14/8.00 GB (1.7%)\n"
     ]
    },
    {
     "name": "stderr",
     "output_type": "stream",
     "text": [
      "Epoch 71/100: 100%|█████████████████████████████████████████████████████| 263/263 [04:49<00:00,  1.10s/it, loss=0.0759]\n"
     ]
    },
    {
     "name": "stdout",
     "output_type": "stream",
     "text": [
      "Epoch 71/100 | Loss: 0.0875 | SSIM: 0.7678\n",
      "Saved checkpoint at epoch 70\n",
      "GPU Memory: 0.14/8.00 GB (1.7%)\n"
     ]
    },
    {
     "name": "stderr",
     "output_type": "stream",
     "text": [
      "Epoch 72/100: 100%|█████████████████████████████████████████████████████| 263/263 [04:48<00:00,  1.10s/it, loss=0.0741]\n"
     ]
    },
    {
     "name": "stdout",
     "output_type": "stream",
     "text": [
      "Epoch 72/100 | Loss: 0.0887 | SSIM: 0.7681\n",
      "Saved checkpoint at epoch 71\n",
      "GPU Memory: 0.14/8.00 GB (1.7%)\n"
     ]
    },
    {
     "name": "stderr",
     "output_type": "stream",
     "text": [
      "Epoch 73/100: 100%|█████████████████████████████████████████████████████| 263/263 [04:50<00:00,  1.10s/it, loss=0.0919]\n"
     ]
    },
    {
     "name": "stdout",
     "output_type": "stream",
     "text": [
      "Epoch 73/100 | Loss: 0.0880 | SSIM: 0.7680\n",
      "Saved checkpoint at epoch 72\n",
      "GPU Memory: 0.14/8.00 GB (1.7%)\n"
     ]
    },
    {
     "name": "stderr",
     "output_type": "stream",
     "text": [
      "Epoch 74/100: 100%|██████████████████████████████████████████████████████| 263/263 [04:49<00:00,  1.10s/it, loss=0.111]\n"
     ]
    },
    {
     "name": "stdout",
     "output_type": "stream",
     "text": [
      "Epoch 74/100 | Loss: 0.0875 | SSIM: 0.7682\n",
      "Saved checkpoint at epoch 73\n",
      "GPU Memory: 0.14/8.00 GB (1.7%)\n"
     ]
    },
    {
     "name": "stderr",
     "output_type": "stream",
     "text": [
      "Epoch 75/100: 100%|██████████████████████████████████████████████████████| 263/263 [04:50<00:00,  1.11s/it, loss=0.093]\n"
     ]
    },
    {
     "name": "stdout",
     "output_type": "stream",
     "text": [
      "Epoch 75/100 | Loss: 0.0882 | SSIM: 0.7673\n",
      "Saved checkpoint at epoch 74\n",
      "GPU Memory: 0.14/8.00 GB (1.7%)\n"
     ]
    },
    {
     "name": "stderr",
     "output_type": "stream",
     "text": [
      "Epoch 76/100: 100%|█████████████████████████████████████████████████████| 263/263 [04:50<00:00,  1.11s/it, loss=0.0735]\n"
     ]
    },
    {
     "name": "stdout",
     "output_type": "stream",
     "text": [
      "Epoch 76/100 | Loss: 0.0891 | SSIM: 0.7677\n",
      "Saved checkpoint at epoch 75\n",
      "GPU Memory: 0.14/8.00 GB (1.7%)\n"
     ]
    },
    {
     "name": "stderr",
     "output_type": "stream",
     "text": [
      "Epoch 77/100: 100%|█████████████████████████████████████████████████████| 263/263 [04:49<00:00,  1.10s/it, loss=0.0638]\n"
     ]
    },
    {
     "name": "stdout",
     "output_type": "stream",
     "text": [
      "Epoch 77/100 | Loss: 0.0900 | SSIM: 0.7678\n",
      "Saved checkpoint at epoch 76\n",
      "GPU Memory: 0.14/8.00 GB (1.7%)\n"
     ]
    },
    {
     "name": "stderr",
     "output_type": "stream",
     "text": [
      "Epoch 78/100: 100%|█████████████████████████████████████████████████████| 263/263 [04:50<00:00,  1.10s/it, loss=0.0529]\n"
     ]
    },
    {
     "name": "stdout",
     "output_type": "stream",
     "text": [
      "Epoch 78/100 | Loss: 0.0881 | SSIM: 0.7680\n",
      "Saved checkpoint at epoch 77\n",
      "GPU Memory: 0.14/8.00 GB (1.7%)\n"
     ]
    },
    {
     "name": "stderr",
     "output_type": "stream",
     "text": [
      "Epoch 79/100: 100%|█████████████████████████████████████████████████████| 263/263 [04:48<00:00,  1.10s/it, loss=0.0664]\n"
     ]
    },
    {
     "name": "stdout",
     "output_type": "stream",
     "text": [
      "Epoch 79/100 | Loss: 0.0879 | SSIM: 0.7677\n",
      "Saved checkpoint at epoch 78\n",
      "GPU Memory: 0.14/8.00 GB (1.7%)\n"
     ]
    },
    {
     "name": "stderr",
     "output_type": "stream",
     "text": [
      "Epoch 80/100: 100%|█████████████████████████████████████████████████████| 263/263 [04:50<00:00,  1.11s/it, loss=0.0885]\n"
     ]
    },
    {
     "name": "stdout",
     "output_type": "stream",
     "text": [
      "Epoch 80/100 | Loss: 0.0889 | SSIM: 0.7683\n",
      "Saved checkpoint at epoch 79\n",
      "GPU Memory: 0.14/8.00 GB (1.7%)\n"
     ]
    },
    {
     "name": "stderr",
     "output_type": "stream",
     "text": [
      "Epoch 81/100: 100%|█████████████████████████████████████████████████████| 263/263 [04:50<00:00,  1.10s/it, loss=0.0808]\n"
     ]
    },
    {
     "name": "stdout",
     "output_type": "stream",
     "text": [
      "Epoch 81/100 | Loss: 0.0889 | SSIM: 0.7679\n",
      "Saved checkpoint at epoch 80\n",
      "GPU Memory: 0.14/8.00 GB (1.7%)\n"
     ]
    },
    {
     "name": "stderr",
     "output_type": "stream",
     "text": [
      "Epoch 82/100: 100%|█████████████████████████████████████████████████████| 263/263 [04:49<00:00,  1.10s/it, loss=0.0963]\n"
     ]
    },
    {
     "name": "stdout",
     "output_type": "stream",
     "text": [
      "Epoch 82/100 | Loss: 0.0885 | SSIM: 0.7680\n",
      "Saved checkpoint at epoch 81\n",
      "GPU Memory: 0.14/8.00 GB (1.7%)\n"
     ]
    },
    {
     "name": "stderr",
     "output_type": "stream",
     "text": [
      "Epoch 83/100: 100%|█████████████████████████████████████████████████████| 263/263 [04:50<00:00,  1.11s/it, loss=0.0579]\n"
     ]
    },
    {
     "name": "stdout",
     "output_type": "stream",
     "text": [
      "Epoch 83/100 | Loss: 0.0878 | SSIM: 0.7676\n",
      "Saved checkpoint at epoch 82\n",
      "GPU Memory: 0.14/8.00 GB (1.7%)\n"
     ]
    },
    {
     "name": "stderr",
     "output_type": "stream",
     "text": [
      "Epoch 84/100: 100%|█████████████████████████████████████████████████████| 263/263 [04:50<00:00,  1.10s/it, loss=0.0828]\n"
     ]
    },
    {
     "name": "stdout",
     "output_type": "stream",
     "text": [
      "Epoch 84/100 | Loss: 0.0894 | SSIM: 0.7680\n",
      "Saved checkpoint at epoch 83\n",
      "GPU Memory: 0.14/8.00 GB (1.7%)\n"
     ]
    },
    {
     "name": "stderr",
     "output_type": "stream",
     "text": [
      "Epoch 85/100: 100%|█████████████████████████████████████████████████████| 263/263 [04:49<00:00,  1.10s/it, loss=0.0891]\n"
     ]
    },
    {
     "name": "stdout",
     "output_type": "stream",
     "text": [
      "Epoch 85/100 | Loss: 0.0887 | SSIM: 0.7680\n",
      "Saved checkpoint at epoch 84\n",
      "GPU Memory: 0.14/8.00 GB (1.7%)\n"
     ]
    },
    {
     "name": "stderr",
     "output_type": "stream",
     "text": [
      "Epoch 86/100: 100%|█████████████████████████████████████████████████████| 263/263 [04:50<00:00,  1.10s/it, loss=0.0688]\n"
     ]
    },
    {
     "name": "stdout",
     "output_type": "stream",
     "text": [
      "Epoch 86/100 | Loss: 0.0883 | SSIM: 0.7681\n",
      "Saved checkpoint at epoch 85\n",
      "GPU Memory: 0.14/8.00 GB (1.7%)\n"
     ]
    },
    {
     "name": "stderr",
     "output_type": "stream",
     "text": [
      "Epoch 87/100: 100%|█████████████████████████████████████████████████████| 263/263 [04:50<00:00,  1.10s/it, loss=0.0714]\n"
     ]
    },
    {
     "name": "stdout",
     "output_type": "stream",
     "text": [
      "Epoch 87/100 | Loss: 0.0895 | SSIM: 0.7680\n",
      "Saved checkpoint at epoch 86\n",
      "GPU Memory: 0.14/8.00 GB (1.7%)\n"
     ]
    },
    {
     "name": "stderr",
     "output_type": "stream",
     "text": [
      "Epoch 88/100: 100%|█████████████████████████████████████████████████████| 263/263 [04:54<00:00,  1.12s/it, loss=0.0668]\n"
     ]
    },
    {
     "name": "stdout",
     "output_type": "stream",
     "text": [
      "Epoch 88/100 | Loss: 0.0882 | SSIM: 0.7683\n",
      "Saved checkpoint at epoch 87\n",
      "GPU Memory: 0.14/8.00 GB (1.7%)\n"
     ]
    },
    {
     "name": "stderr",
     "output_type": "stream",
     "text": [
      "Epoch 89/100: 100%|█████████████████████████████████████████████████████| 263/263 [04:49<00:00,  1.10s/it, loss=0.0739]\n"
     ]
    },
    {
     "name": "stdout",
     "output_type": "stream",
     "text": [
      "Epoch 89/100 | Loss: 0.0890 | SSIM: 0.7683\n",
      "Saved checkpoint at epoch 88\n",
      "GPU Memory: 0.14/8.00 GB (1.7%)\n"
     ]
    },
    {
     "name": "stderr",
     "output_type": "stream",
     "text": [
      "Epoch 90/100: 100%|█████████████████████████████████████████████████████| 263/263 [04:50<00:00,  1.10s/it, loss=0.0615]\n"
     ]
    },
    {
     "name": "stdout",
     "output_type": "stream",
     "text": [
      "Epoch 90/100 | Loss: 0.0890 | SSIM: 0.7682\n",
      "Saved checkpoint at epoch 89\n",
      "GPU Memory: 0.14/8.00 GB (1.7%)\n"
     ]
    },
    {
     "name": "stderr",
     "output_type": "stream",
     "text": [
      "Epoch 91/100: 100%|█████████████████████████████████████████████████████| 263/263 [04:50<00:00,  1.10s/it, loss=0.0949]\n"
     ]
    },
    {
     "name": "stdout",
     "output_type": "stream",
     "text": [
      "Epoch 91/100 | Loss: 0.0875 | SSIM: 0.7681\n",
      "Saved checkpoint at epoch 90\n",
      "GPU Memory: 0.14/8.00 GB (1.7%)\n"
     ]
    },
    {
     "name": "stderr",
     "output_type": "stream",
     "text": [
      "Epoch 92/100: 100%|█████████████████████████████████████████████████████| 263/263 [04:49<00:00,  1.10s/it, loss=0.0807]\n"
     ]
    },
    {
     "name": "stdout",
     "output_type": "stream",
     "text": [
      "Epoch 92/100 | Loss: 0.0876 | SSIM: 0.7680\n",
      "Saved checkpoint at epoch 91\n",
      "GPU Memory: 0.14/8.00 GB (1.7%)\n"
     ]
    },
    {
     "name": "stderr",
     "output_type": "stream",
     "text": [
      "Epoch 93/100: 100%|██████████████████████████████████████████████████████| 263/263 [04:50<00:00,  1.10s/it, loss=0.106]\n"
     ]
    },
    {
     "name": "stdout",
     "output_type": "stream",
     "text": [
      "Epoch 93/100 | Loss: 0.0875 | SSIM: 0.7679\n",
      "Saved checkpoint at epoch 92\n",
      "GPU Memory: 0.14/8.00 GB (1.7%)\n"
     ]
    },
    {
     "name": "stderr",
     "output_type": "stream",
     "text": [
      "Epoch 94/100: 100%|███████████████████████████████████████████████████████| 263/263 [04:50<00:00,  1.10s/it, loss=0.07]\n"
     ]
    },
    {
     "name": "stdout",
     "output_type": "stream",
     "text": [
      "Epoch 94/100 | Loss: 0.0881 | SSIM: 0.7680\n",
      "Saved checkpoint at epoch 93\n",
      "GPU Memory: 0.14/8.00 GB (1.7%)\n"
     ]
    },
    {
     "name": "stderr",
     "output_type": "stream",
     "text": [
      "Epoch 95/100: 100%|██████████████████████████████████████████████████████| 263/263 [04:49<00:00,  1.10s/it, loss=0.115]\n"
     ]
    },
    {
     "name": "stdout",
     "output_type": "stream",
     "text": [
      "Epoch 95/100 | Loss: 0.0889 | SSIM: 0.7681\n",
      "Saved checkpoint at epoch 94\n",
      "GPU Memory: 0.14/8.00 GB (1.7%)\n"
     ]
    },
    {
     "name": "stderr",
     "output_type": "stream",
     "text": [
      "Epoch 96/100: 100%|█████████████████████████████████████████████████████| 263/263 [04:49<00:00,  1.10s/it, loss=0.0586]\n"
     ]
    },
    {
     "name": "stdout",
     "output_type": "stream",
     "text": [
      "Epoch 96/100 | Loss: 0.0879 | SSIM: 0.7680\n",
      "Saved checkpoint at epoch 95\n",
      "GPU Memory: 0.14/8.00 GB (1.7%)\n"
     ]
    },
    {
     "name": "stderr",
     "output_type": "stream",
     "text": [
      "Epoch 97/100: 100%|█████████████████████████████████████████████████████| 263/263 [04:49<00:00,  1.10s/it, loss=0.0726]\n"
     ]
    },
    {
     "name": "stdout",
     "output_type": "stream",
     "text": [
      "Epoch 97/100 | Loss: 0.0875 | SSIM: 0.7681\n",
      "Saved checkpoint at epoch 96\n",
      "GPU Memory: 0.14/8.00 GB (1.7%)\n"
     ]
    },
    {
     "name": "stderr",
     "output_type": "stream",
     "text": [
      "Epoch 98/100: 100%|█████████████████████████████████████████████████████| 263/263 [04:50<00:00,  1.11s/it, loss=0.0837]\n"
     ]
    },
    {
     "name": "stdout",
     "output_type": "stream",
     "text": [
      "Epoch 98/100 | Loss: 0.0876 | SSIM: 0.7679\n",
      "Saved checkpoint at epoch 97\n",
      "GPU Memory: 0.14/8.00 GB (1.7%)\n"
     ]
    },
    {
     "name": "stderr",
     "output_type": "stream",
     "text": [
      "Epoch 99/100: 100%|█████████████████████████████████████████████████████| 263/263 [04:49<00:00,  1.10s/it, loss=0.0812]\n"
     ]
    },
    {
     "name": "stdout",
     "output_type": "stream",
     "text": [
      "Epoch 99/100 | Loss: 0.0881 | SSIM: 0.7680\n",
      "Saved checkpoint at epoch 98\n",
      "GPU Memory: 0.14/8.00 GB (1.7%)\n"
     ]
    },
    {
     "name": "stderr",
     "output_type": "stream",
     "text": [
      "Epoch 100/100: 100%|█████████████████████████████████████████████████████| 263/263 [04:50<00:00,  1.10s/it, loss=0.066]\n"
     ]
    },
    {
     "name": "stdout",
     "output_type": "stream",
     "text": [
      "Epoch 100/100 | Loss: 0.0880 | SSIM: 0.7679\n",
      "Saved checkpoint at epoch 99\n",
      "GPU Memory: 0.14/8.00 GB (1.7%)\n"
     ]
    },
    {
     "name": "stderr",
     "output_type": "stream",
     "text": [
      "C:\\Users\\Lenovo\\AppData\\Local\\Temp\\ipykernel_8652\\2841473985.py:666: FutureWarning: You are using `torch.load` with `weights_only=False` (the current default value), which uses the default pickle module implicitly. It is possible to construct malicious pickle data which will execute arbitrary code during unpickling (See https://github.com/pytorch/pytorch/blob/main/SECURITY.md#untrusted-models for more details). In a future release, the default value for `weights_only` will be flipped to `True`. This limits the functions that could be executed during unpickling. Arbitrary objects will no longer be allowed to be loaded via this mode unless they are explicitly allowlisted by the user via `torch.serialization.add_safe_globals`. We recommend you start setting `weights_only=True` for any use case where you don't have full control of the loaded file. Please open an issue on GitHub for any issues related to this experimental feature.\n",
      "  student.load_state_dict(torch.load(config.STUDENT_SAVE_PATH))\n"
     ]
    },
    {
     "name": "stdout",
     "output_type": "stream",
     "text": [
      "\n",
      "========================================\n",
      "Final Evaluation:\n",
      "========================================\n",
      "SSIM: 0.7685\n",
      "FPS: 10.48 @ (1920, 1080)\n",
      "========================================\n",
      "Saved comparison images to debug/ folder!\n"
     ]
    }
   ],
   "source": [
    "# %% [markdown]\n",
    "# # Image Sharpening using Knowledge Distillation (GPU Optimized)\n",
    "\n",
    "# %%\n",
    "# Initial setup for Windows\n",
    "import os\n",
    "import pickle\n",
    "import time\n",
    "import random\n",
    "import numpy as np\n",
    "import torch\n",
    "import torch.nn as nn\n",
    "import torch.nn.functional as F\n",
    "from tqdm import tqdm\n",
    "from PIL import Image\n",
    "from torch.utils.data import Dataset, DataLoader\n",
    "from torchvision.transforms import functional as TF\n",
    "from torch.amp import GradScaler\n",
    "from torchvision.models import vgg16, VGG16_Weights\n",
    "from piq import ssim\n",
    "import gdown\n",
    "import math\n",
    "from einops import rearrange\n",
    "\n",
    "# Environment setup\n",
    "os.environ['KMP_DUPLICATE_LIB_OK'] = 'TRUE'\n",
    "os.environ['OMP_NUM_THREADS'] = '1'\n",
    "os.environ['CUDA_LAUNCH_BLOCKING'] = '1'\n",
    "\n",
    "print(f\"PyTorch version: {torch.__version__}\")\n",
    "print(f\"CUDA available: {torch.cuda.is_available()}\")\n",
    "if torch.cuda.is_available():\n",
    "    print(f\"GPU: {torch.cuda.get_device_name(0)}\")\n",
    "    print(f\"VRAM: {torch.cuda.get_device_properties(0).total_memory/1024**3:.2f} GB\")\n",
    "    torch.backends.cudnn.benchmark = True\n",
    "\n",
    "# %% [markdown]\n",
    "## Configuration (Optimized for RTX 4060)\n",
    "\n",
    "# %%\n",
    "class Config:\n",
    "    # ===== UPDATE THESE PATHS =====\n",
    "    TRAIN_BLUR = r\"C:\\Users\\Lenovo\\Downloads\\image_sharpening_kd_project (2)\\image_sharpening_kd_project\\data\\Gopro\\train\\blur\"\n",
    "    TRAIN_SHARP_PATH = r\"C:\\Users\\Lenovo\\Downloads\\image_sharpening_kd_project (2)\\image_sharpening_kd_project\\data\\Gopro\\train\\sharp\"\n",
    "    TEST_BLUR_PATH = r\"C:\\Users\\Lenovo\\Downloads\\image_sharpening_kd_project (2)\\image_sharpening_kd_project\\data\\Gopro\\test\\blur\"\n",
    "    TEST_SHARP_PATH = r\"C:\\Users\\Lenovo\\Downloads\\image_sharpening_kd_project (2)\\image_sharpening_kd_project\\data\\Gopro\\test\\sharp\"\n",
    "    # ==============================\n",
    "    \n",
    "    # Training parameters\n",
    "    BATCH_SIZE = 8  # Increased for GPU\n",
    "    PATCH_SIZE = 256\n",
    "    NUM_EPOCHS = 100\n",
    "    LR = 1e-4\n",
    "    DEVICE = torch.device(\"cuda\" if torch.cuda.is_available() else \"cpu\")\n",
    "    NUM_WORKERS = 0  # Windows often has issues with multiprocessing\n",
    "    \n",
    "    # Model paths\n",
    "    TEACHER_WEIGHTS = \"motion_deblurring.pth\"\n",
    "    STUDENT_SAVE_PATH = \"student_model.pth\"\n",
    "    \n",
    "    # Preloading cache\n",
    "    TRAIN_CACHE_PATH = \"train_dataset_cache.pkl\"\n",
    "    TEST_CACHE_PATH = \"test_dataset_cache.pkl\"\n",
    "    \n",
    "    # Evaluation\n",
    "    BENCHMARK_SIZE = 100\n",
    "    TARGET_RES = (1920, 1080)\n",
    "\n",
    "config = Config()\n",
    "\n",
    "# Verify paths\n",
    "print(\"\\nPath verification:\")\n",
    "for path_type in ['TRAIN_BLUR', 'TRAIN_SHARP', 'TEST_BLUR', 'TEST_SHARP']:\n",
    "    path = getattr(config, f\"{path_type}_PATH\")\n",
    "    exists = os.path.exists(path)\n",
    "    print(f\"{path_type}: {'✅' if exists else '❌'} {path}\")\n",
    "    if exists:\n",
    "        print(f\"   Contains {len(os.listdir(path))} files\")\n",
    "\n",
    "# %% [markdown]\n",
    "## Fixed Restormer Implementation (WithBias Version)\n",
    "\n",
    "# %%\n",
    "# Restormer components with WithBias LayerNorm\n",
    "class LayerNorm(nn.Module):\n",
    "    def __init__(self, dim, LayerNorm_type='WithBias'):\n",
    "        super().__init__()\n",
    "        if LayerNorm_type == 'BiasFree':\n",
    "            self.body = BiasFree_LayerNorm(dim)\n",
    "        else:\n",
    "            self.body = WithBias_LayerNorm(dim)\n",
    "\n",
    "    def forward(self, x):\n",
    "        return self.body(x)\n",
    "\n",
    "class BiasFree_LayerNorm(nn.Module):\n",
    "    def __init__(self, normalized_shape):\n",
    "        super().__init__()\n",
    "        if isinstance(normalized_shape, int):\n",
    "            normalized_shape = (normalized_shape,)\n",
    "        normalized_shape = torch.Size(normalized_shape)\n",
    "        self.weight = nn.Parameter(torch.ones(normalized_shape))\n",
    "        self.normalized_shape = normalized_shape\n",
    "        \n",
    "    def forward(self, x):\n",
    "        mu = x.mean(1, keepdim=True)\n",
    "        sigma = x.var(1, keepdim=True, unbiased=False)\n",
    "        return (x - mu) / torch.sqrt(sigma+1e-5) * self.weight[None, :, None, None]\n",
    "\n",
    "class WithBias_LayerNorm(nn.Module):\n",
    "    def __init__(self, normalized_shape):\n",
    "        super().__init__()\n",
    "        if isinstance(normalized_shape, int):\n",
    "            normalized_shape = (normalized_shape,)\n",
    "        normalized_shape = torch.Size(normalized_shape)\n",
    "        self.weight = nn.Parameter(torch.ones(normalized_shape))\n",
    "        self.bias = nn.Parameter(torch.zeros(normalized_shape))\n",
    "        self.normalized_shape = normalized_shape\n",
    "        \n",
    "    def forward(self, x):\n",
    "        mu = x.mean(1, keepdim=True)\n",
    "        sigma = x.var(1, keepdim=True, unbiased=False)\n",
    "        x_normalized = (x - mu) / torch.sqrt(sigma + 1e-5)\n",
    "        return x_normalized * self.weight[None, :, None, None] + self.bias[None, :, None, None]\n",
    "\n",
    "class FeedForward(nn.Module):\n",
    "    def __init__(self, dim, ffn_expansion_factor, bias):\n",
    "        super().__init__()\n",
    "        hidden_features = int(dim*ffn_expansion_factor)\n",
    "        self.project_in = nn.Conv2d(dim, hidden_features*2, kernel_size=1, bias=bias)\n",
    "        self.dwconv = nn.Conv2d(hidden_features*2, hidden_features*2, kernel_size=3, padding=1, groups=hidden_features*2, bias=bias)\n",
    "        self.project_out = nn.Conv2d(hidden_features, dim, kernel_size=1, bias=bias)\n",
    "\n",
    "    def forward(self, x):\n",
    "        x = self.project_in(x)\n",
    "        x1, x2 = self.dwconv(x).chunk(2, dim=1)\n",
    "        x = F.gelu(x1) * x2\n",
    "        x = self.project_out(x)\n",
    "        return x\n",
    "\n",
    "class Attention(nn.Module):\n",
    "    def __init__(self, dim, num_heads, bias):\n",
    "        super().__init__()\n",
    "        self.num_heads = num_heads\n",
    "        self.temperature = nn.Parameter(torch.ones(num_heads, 1, 1))\n",
    "        self.qkv = nn.Conv2d(dim, dim*3, kernel_size=1, bias=bias)\n",
    "        self.qkv_dwconv = nn.Conv2d(dim*3, dim*3, kernel_size=3, padding=1, groups=dim*3, bias=bias)\n",
    "        self.project_out = nn.Conv2d(dim, dim, kernel_size=1, bias=bias)\n",
    "        \n",
    "    def forward(self, x):\n",
    "        b,c,h,w = x.shape\n",
    "        qkv = self.qkv_dwconv(self.qkv(x))\n",
    "        q,k,v = qkv.chunk(3, dim=1)   \n",
    "        q = rearrange(q, 'b (head c) h w -> b head c (h w)', head=self.num_heads)\n",
    "        k = rearrange(k, 'b (head c) h w -> b head c (h w)', head=self.num_heads)\n",
    "        v = rearrange(v, 'b (head c) h w -> b head c (h w)', head=self.num_heads)\n",
    "        q = torch.nn.functional.normalize(q, dim=-1)\n",
    "        k = torch.nn.functional.normalize(k, dim=-1)\n",
    "        attn = (q @ k.transpose(-2, -1)) * self.temperature\n",
    "        attn = attn.softmax(dim=-1)\n",
    "        out = (attn @ v)\n",
    "        out = rearrange(out, 'b head c (h w) -> b (head c) h w', head=self.num_heads, h=h, w=w)\n",
    "        out = self.project_out(out)\n",
    "        return out\n",
    "\n",
    "class TransformerBlock(nn.Module):\n",
    "    def __init__(self, dim, num_heads, ffn_expansion_factor, bias, LayerNorm_type):\n",
    "        super().__init__()\n",
    "        self.norm1 = LayerNorm(dim, LayerNorm_type)\n",
    "        self.attn = Attention(dim, num_heads, bias)\n",
    "        self.norm2 = LayerNorm(dim, LayerNorm_type)\n",
    "        self.ffn = FeedForward(dim, ffn_expansion_factor, bias)\n",
    "\n",
    "    def forward(self, x):\n",
    "        x = x + self.attn(self.norm1(x))\n",
    "        x = x + self.ffn(self.norm2(x))\n",
    "        return x\n",
    "\n",
    "class OverlapPatchEmbed(nn.Module):\n",
    "    def __init__(self, in_c=3, embed_dim=48, bias=False):\n",
    "        super().__init__()\n",
    "        self.proj = nn.Conv2d(in_c, embed_dim, kernel_size=3, padding=1, bias=bias)\n",
    "\n",
    "    def forward(self, x):\n",
    "        return self.proj(x)\n",
    "\n",
    "class Downsample(nn.Module):\n",
    "    def __init__(self, n_feat):\n",
    "        super().__init__()\n",
    "        self.body = nn.Sequential(nn.Conv2d(n_feat, n_feat//2, kernel_size=3, padding=1, bias=False),\n",
    "                                  nn.PixelUnshuffle(2))\n",
    "\n",
    "    def forward(self, x):\n",
    "        return self.body(x)\n",
    "\n",
    "class Upsample(nn.Module):\n",
    "    def __init__(self, n_feat):\n",
    "        super().__init__()\n",
    "        self.body = nn.Sequential(nn.Conv2d(n_feat, n_feat*2, kernel_size=3, padding=1, bias=False),\n",
    "                                  nn.PixelShuffle(2))\n",
    "\n",
    "    def forward(self, x):\n",
    "        return self.body(x)\n",
    "\n",
    "class Restormer(nn.Module):\n",
    "    def __init__(self, \n",
    "        inp_channels=3, \n",
    "        out_channels=3, \n",
    "        dim=48,\n",
    "        num_blocks=[4,6,6,8], \n",
    "        num_refinement_blocks=4,\n",
    "        heads=[1,2,4,8],\n",
    "        ffn_expansion_factor=2.66,\n",
    "        bias=False,\n",
    "        LayerNorm_type='WithBias'\n",
    "    ):\n",
    "        super().__init__()\n",
    "        self.patch_embed = OverlapPatchEmbed(inp_channels, dim)\n",
    "        self.encoder_level1 = nn.Sequential(*[TransformerBlock(dim=dim, num_heads=heads[0], ffn_expansion_factor=ffn_expansion_factor, bias=bias, LayerNorm_type=LayerNorm_type) for i in range(num_blocks[0])])\n",
    "        self.down1_2 = Downsample(dim)\n",
    "        self.encoder_level2 = nn.Sequential(*[TransformerBlock(dim=int(dim*2**1), num_heads=heads[1], ffn_expansion_factor=ffn_expansion_factor, bias=bias, LayerNorm_type=LayerNorm_type) for i in range(num_blocks[1])])\n",
    "        self.down2_3 = Downsample(int(dim*2**1))\n",
    "        self.encoder_level3 = nn.Sequential(*[TransformerBlock(dim=int(dim*2**2), num_heads=heads[2], ffn_expansion_factor=ffn_expansion_factor, bias=bias, LayerNorm_type=LayerNorm_type) for i in range(num_blocks[2])])\n",
    "        self.down3_4 = Downsample(int(dim*2**2))\n",
    "        self.latent = nn.Sequential(*[TransformerBlock(dim=int(dim*2**3), num_heads=heads[3], ffn_expansion_factor=ffn_expansion_factor, bias=bias, LayerNorm_type=LayerNorm_type) for i in range(num_blocks[3])])\n",
    "        self.up4_3 = Upsample(int(dim*2**3))\n",
    "        self.reduce_chan_level3 = nn.Conv2d(int(dim*2**3), int(dim*2**2), kernel_size=1, bias=bias)\n",
    "        self.decoder_level3 = nn.Sequential(*[TransformerBlock(dim=int(dim*2**2), num_heads=heads[2], ffn_expansion_factor=ffn_expansion_factor, bias=bias, LayerNorm_type=LayerNorm_type) for i in range(num_blocks[2])])\n",
    "        self.up3_2 = Upsample(int(dim*2**2))\n",
    "        self.reduce_chan_level2 = nn.Conv2d(int(dim*2**2), int(dim*2**1), kernel_size=1, bias=bias)\n",
    "        self.decoder_level2 = nn.Sequential(*[TransformerBlock(dim=int(dim*2**1), num_heads=heads[1], ffn_expansion_factor=ffn_expansion_factor, bias=bias, LayerNorm_type=LayerNorm_type) for i in range(num_blocks[1])])\n",
    "        self.up2_1 = Upsample(int(dim*2**1))\n",
    "        self.decoder_level1 = nn.Sequential(*[TransformerBlock(dim=int(dim*2**1), num_heads=heads[0], ffn_expansion_factor=ffn_expansion_factor, bias=bias, LayerNorm_type=LayerNorm_type) for i in range(num_blocks[0])])\n",
    "        self.refinement = nn.Sequential(*[TransformerBlock(dim=int(dim*2**1), num_heads=heads[0], ffn_expansion_factor=ffn_expansion_factor, bias=bias, LayerNorm_type=LayerNorm_type) for i in range(num_refinement_blocks)])\n",
    "        self.output = nn.Conv2d(int(dim*2**1), out_channels, kernel_size=3, padding=1, bias=bias)\n",
    "\n",
    "    def forward(self, inp_img):\n",
    "        inp_enc_level1 = self.patch_embed(inp_img)\n",
    "        out_enc_level1 = self.encoder_level1(inp_enc_level1)\n",
    "        inp_enc_level2 = self.down1_2(out_enc_level1)\n",
    "        out_enc_level2 = self.encoder_level2(inp_enc_level2)\n",
    "        inp_enc_level3 = self.down2_3(out_enc_level2)\n",
    "        out_enc_level3 = self.encoder_level3(inp_enc_level3)\n",
    "        inp_enc_level4 = self.down3_4(out_enc_level3)        \n",
    "        latent = self.latent(inp_enc_level4)\n",
    "        inp_dec_level3 = self.up4_3(latent)\n",
    "        inp_dec_level3 = torch.cat([inp_dec_level3, out_enc_level3], 1)\n",
    "        inp_dec_level3 = self.reduce_chan_level3(inp_dec_level3)\n",
    "        out_dec_level3 = self.decoder_level3(inp_dec_level3)\n",
    "        inp_dec_level2 = self.up3_2(out_dec_level3)\n",
    "        inp_dec_level2 = torch.cat([inp_dec_level2, out_enc_level2], 1)\n",
    "        inp_dec_level2 = self.reduce_chan_level2(inp_dec_level2)\n",
    "        out_dec_level2 = self.decoder_level2(inp_dec_level2)\n",
    "        inp_dec_level1 = self.up2_1(out_dec_level2)\n",
    "        inp_dec_level1 = torch.cat([inp_dec_level1, out_enc_level1], 1)\n",
    "        out_dec_level1 = self.decoder_level1(inp_dec_level1)\n",
    "        out_dec_level1 = self.refinement(out_dec_level1)\n",
    "        out_dec_level1 = self.output(out_dec_level1) + inp_img\n",
    "        return out_dec_level1\n",
    "\n",
    "# Security registration for model loading\n",
    "try:\n",
    "    torch.serialization.add_safe_globals([Restormer])\n",
    "    print(\"Added Restormer to safe globals for secure model loading\")\n",
    "except AttributeError:\n",
    "    print(\"Warning: torch.serialization.add_safe_globals not available in this PyTorch version\")\n",
    "\n",
    "# %% [markdown]\n",
    "## Download Teacher Weights\n",
    "\n",
    "# %%\n",
    "if not os.path.exists(config.TEACHER_WEIGHTS):\n",
    "    print(\"Downloading teacher weights...\")\n",
    "    gdown.download(\n",
    "        \"https://github.com/swz30/Restormer/releases/download/v1.0/motion_deblurring.pth\", \n",
    "        config.TEACHER_WEIGHTS, \n",
    "        quiet=False\n",
    "    )\n",
    "    print(\"Download complete!\")\n",
    "\n",
    "# %% [markdown]\n",
    "## Model Definitions (GPU Optimized)\n",
    "\n",
    "# %%\n",
    "# Lightweight Student Model with memory optimizations\n",
    "class StudentModel(nn.Module):\n",
    "    def __init__(self):\n",
    "        super().__init__()\n",
    "        # Encoder with inplace ReLU to save memory\n",
    "        self.enc1 = nn.Sequential(\n",
    "            nn.Conv2d(3, 32, 3, padding=1),\n",
    "            nn.ReLU(inplace=True),\n",
    "            nn.Conv2d(32, 32, 3, padding=1),\n",
    "            nn.ReLU(inplace=True)\n",
    "        )\n",
    "        self.pool1 = nn.MaxPool2d(2)\n",
    "        \n",
    "        self.enc2 = nn.Sequential(\n",
    "            nn.Conv2d(32, 64, 3, padding=1),\n",
    "            nn.ReLU(inplace=True),\n",
    "            nn.Conv2d(64, 64, 3, padding=1),\n",
    "            nn.ReLU(inplace=True)\n",
    "        )\n",
    "        self.pool2 = nn.MaxPool2d(2)\n",
    "        \n",
    "        # Bottleneck\n",
    "        self.bottleneck = nn.Sequential(\n",
    "            nn.Conv2d(64, 128, 3, padding=1),\n",
    "            nn.ReLU(inplace=True),\n",
    "            nn.Conv2d(128, 128, 3, padding=1),\n",
    "            nn.ReLU(inplace=True)\n",
    "        )\n",
    "        \n",
    "        # Decoder\n",
    "        self.up2 = nn.ConvTranspose2d(128, 64, 2, stride=2)\n",
    "        self.dec2 = nn.Sequential(\n",
    "            nn.Conv2d(128, 64, 3, padding=1),\n",
    "            nn.ReLU(inplace=True),\n",
    "            nn.Conv2d(64, 64, 3, padding=1),\n",
    "            nn.ReLU(inplace=True)\n",
    "        )\n",
    "        \n",
    "        self.up1 = nn.ConvTranspose2d(64, 32, 2, stride=2)\n",
    "        self.dec1 = nn.Sequential(\n",
    "            nn.Conv2d(64, 32, 3, padding=1),\n",
    "            nn.ReLU(inplace=True),\n",
    "            nn.Conv2d(32, 32, 3, padding=1),\n",
    "            nn.ReLU(inplace=True)\n",
    "        )\n",
    "        \n",
    "        self.output = nn.Conv2d(32, 3, 1)\n",
    "    \n",
    "    def forward(self, x):\n",
    "        e1 = self.enc1(x)\n",
    "        p1 = self.pool1(e1)\n",
    "        e2 = self.enc2(p1)\n",
    "        p2 = self.pool2(e2)\n",
    "        b = self.bottleneck(p2)\n",
    "        d2 = self.dec2(torch.cat([self.up2(b), e2], dim=1))\n",
    "        d1 = self.dec1(torch.cat([self.up1(d2), e1], dim=1))\n",
    "        return self.output(d1)\n",
    "\n",
    "# Teacher Model\n",
    "class TeacherModel(nn.Module):\n",
    "    def __init__(self):\n",
    "        super().__init__()\n",
    "        self.model = Restormer()\n",
    "        \n",
    "        # Load weights with explicit weights_only=False\n",
    "        state_dict = torch.load(config.TEACHER_WEIGHTS, map_location=config.DEVICE, weights_only=False)\n",
    "        self.model.load_state_dict(state_dict['params'])\n",
    "        self.model.eval()\n",
    "    \n",
    "    def forward(self, x):\n",
    "        with torch.no_grad():\n",
    "            return self.model(x)\n",
    "\n",
    "# Initialize models with GPU optimization\n",
    "teacher = TeacherModel().to(config.DEVICE)\n",
    "student = StudentModel().to(config.DEVICE)\n",
    "\n",
    "# Freeze teacher model\n",
    "for param in teacher.parameters():\n",
    "    param.requires_grad = False\n",
    "\n",
    "print(f\"Teacher parameters: {sum(p.numel() for p in teacher.parameters())/1e6:.2f}M\")\n",
    "print(f\"Student parameters: {sum(p.numel() for p in student.parameters())/1e6:.2f}M\")\n",
    "\n",
    "# Test models on GPU\n",
    "if torch.cuda.is_available():\n",
    "    with torch.no_grad():\n",
    "        test_input = torch.randn(1, 3, 256, 256).to(config.DEVICE)\n",
    "        output = teacher(test_input)\n",
    "        print(f\"Teacher test output shape: {output.shape}\")\n",
    "        output = student(test_input)\n",
    "        print(f\"Student test output shape: {output.shape}\")\n",
    "\n",
    "# %% [markdown]\n",
    "## Dataset Preparation with Preloading Cache\n",
    "\n",
    "# %%\n",
    "class GoProDataset(Dataset):\n",
    "    def __init__(self, blur_dir, sharp_dir, patch_size=256, train=True, cache_path=None):\n",
    "        self.blur_dir = blur_dir\n",
    "        self.sharp_dir = sharp_dir\n",
    "        self.patch_size = patch_size\n",
    "        self.train = train\n",
    "        self.cache_path = cache_path\n",
    "        \n",
    "        # Try to load from cache\n",
    "        if cache_path and os.path.exists(cache_path):\n",
    "            print(f\"Loading preloaded dataset from cache: {cache_path}\")\n",
    "            with open(cache_path, 'rb') as f:\n",
    "                self.blur_images, self.sharp_images = pickle.load(f)\n",
    "        else:\n",
    "            self.blur_files = sorted(os.listdir(blur_dir))\n",
    "            self.sharp_files = sorted(os.listdir(sharp_dir))\n",
    "            \n",
    "            assert len(self.blur_files) == len(self.sharp_files), \"Mismatched dataset sizes\"\n",
    "            \n",
    "            # Preload images to RAM\n",
    "            print(f\"Preloading {len(self.blur_files)} images...\")\n",
    "            self.blur_images = []\n",
    "            self.sharp_images = []\n",
    "            for i in tqdm(range(len(self.blur_files))):\n",
    "                self.blur_images.append(Image.open(os.path.join(blur_dir, self.blur_files[i])).convert('RGB'))\n",
    "                self.sharp_images.append(Image.open(os.path.join(sharp_dir, self.sharp_files[i])).convert('RGB'))\n",
    "            print(\"Preloading complete!\")\n",
    "            \n",
    "            # Save to cache if path provided\n",
    "            if cache_path:\n",
    "                print(f\"Saving preloaded dataset to cache: {cache_path}\")\n",
    "                with open(cache_path, 'wb') as f:\n",
    "                    pickle.dump((self.blur_images, self.sharp_images), f)\n",
    "\n",
    "    def __len__(self):\n",
    "        return len(self.blur_images)\n",
    "\n",
    "    def __getitem__(self, idx):\n",
    "        blur_img = self.blur_images[idx]\n",
    "        sharp_img = self.sharp_images[idx]\n",
    "        \n",
    "        if self.train:\n",
    "            w, h = blur_img.size\n",
    "            x = random.randint(0, w - self.patch_size)\n",
    "            y = random.randint(0, h - self.patch_size)\n",
    "            blur_img = blur_img.crop((x, y, x+self.patch_size, y+self.patch_size))\n",
    "            sharp_img = sharp_img.crop((x, y, x+self.patch_size, y+self.patch_size))\n",
    "            \n",
    "            if random.random() > 0.5:\n",
    "                blur_img = blur_img.transpose(Image.FLIP_LEFT_RIGHT)\n",
    "                sharp_img = sharp_img.transpose(Image.FLIP_LEFT_RIGHT)\n",
    "        else:\n",
    "            blur_img = blur_img.resize(config.TARGET_RES)\n",
    "            sharp_img = sharp_img.resize(config.TARGET_RES)\n",
    "        \n",
    "        # Convert to tensor\n",
    "        blur_tensor = TF.to_tensor(blur_img)\n",
    "        sharp_tensor = TF.to_tensor(sharp_img)\n",
    "        \n",
    "        return blur_tensor, sharp_tensor\n",
    "\n",
    "# Create datasets with caching\n",
    "train_dataset = GoProDataset(\n",
    "    config.TRAIN_BLUR_PATH,\n",
    "    config.TRAIN_SHARP_PATH,\n",
    "    config.PATCH_SIZE,\n",
    "    train=True,\n",
    "    cache_path=config.TRAIN_CACHE_PATH\n",
    ")\n",
    "\n",
    "test_dataset = GoProDataset(\n",
    "    config.TEST_BLUR_PATH,\n",
    "    config.TEST_SHARP_PATH,\n",
    "    config.PATCH_SIZE,\n",
    "    train=False,\n",
    "    cache_path=config.TEST_CACHE_PATH\n",
    ")\n",
    "\n",
    "# DataLoaders with GPU optimizations\n",
    "train_loader = DataLoader(\n",
    "    train_dataset,\n",
    "    batch_size=config.BATCH_SIZE,\n",
    "    shuffle=True,\n",
    "    num_workers=config.NUM_WORKERS,\n",
    "    pin_memory=True if torch.cuda.is_available() else False,\n",
    "    persistent_workers=True if config.NUM_WORKERS > 0 else False\n",
    ")\n",
    "\n",
    "test_loader = DataLoader(\n",
    "    test_dataset,\n",
    "    batch_size=1,\n",
    "    shuffle=False,\n",
    "    num_workers=config.NUM_WORKERS,\n",
    "    pin_memory=True if torch.cuda.is_available() else False\n",
    ")\n",
    "\n",
    "# Save sample images instead of showing to prevent blocking\n",
    "os.makedirs(\"debug\", exist_ok=True)\n",
    "blur, sharp = next(iter(train_loader))\n",
    "print(f\"Batch shape: {blur.shape}\")\n",
    "\n",
    "def save_tensor_image(tensor, path):\n",
    "    img = tensor.cpu().permute(1, 2, 0).numpy()\n",
    "    img = (img * 255).clip(0, 255).astype(np.uint8)\n",
    "    Image.fromarray(img).save(path)\n",
    "\n",
    "save_tensor_image(blur[0], \"debug/blurry_sample.jpg\")\n",
    "save_tensor_image(sharp[0], \"debug/sharp_sample.jpg\")\n",
    "print(\"Saved sample images to debug/ folder!\")\n",
    "\n",
    "# %% [markdown]\n",
    "## Training Setup (GPU Optimized)\n",
    "\n",
    "# %%\n",
    "class DistillationLoss(nn.Module):\n",
    "    def __init__(self, alpha=0.5, beta=0.3, gamma=0.2):\n",
    "        super().__init__()\n",
    "        self.alpha = alpha\n",
    "        self.beta = beta\n",
    "        self.gamma = gamma\n",
    "        \n",
    "        # Use modern weights API\n",
    "        vgg = vgg16(weights=VGG16_Weights.IMAGENET1K_V1).features[:16]\n",
    "        for param in vgg.parameters():\n",
    "            param.requires_grad = False\n",
    "        self.vgg = vgg.eval().to(config.DEVICE)\n",
    "        \n",
    "        self.l1_loss = nn.L1Loss()\n",
    "        \n",
    "    def forward(self, student_out, teacher_out, target):\n",
    "        rec_loss = self.l1_loss(student_out, target)\n",
    "        s_features = self.vgg(student_out)\n",
    "        with torch.no_grad():\n",
    "            t_features = self.vgg(teacher_out)\n",
    "        perc_loss = self.l1_loss(s_features, t_features)\n",
    "        feat_loss = self.l1_loss(student_out, teacher_out)\n",
    "        return (self.alpha * rec_loss + \n",
    "                self.beta * perc_loss + \n",
    "                self.gamma * feat_loss)\n",
    "\n",
    "criterion = DistillationLoss().to(config.DEVICE)\n",
    "optimizer = torch.optim.Adam(student.parameters(), lr=config.LR)\n",
    "\n",
    "# Learning rate scheduler\n",
    "scheduler = torch.optim.lr_scheduler.ReduceLROnPlateau(\n",
    "    optimizer, mode='max', factor=0.5, patience=5\n",
    ")\n",
    "\n",
    "# Mixed precision scaler (updated API)\n",
    "scaler = torch.amp.GradScaler()\n",
    "\n",
    "# Training checkpoint\n",
    "def save_checkpoint(epoch, history):\n",
    "    checkpoint = {\n",
    "        'epoch': epoch,\n",
    "        'student_state_dict': student.state_dict(),\n",
    "        'optimizer_state_dict': optimizer.state_dict(),\n",
    "        'scheduler_state_dict': scheduler.state_dict(),\n",
    "        'history': history,\n",
    "        'best_ssim': best_ssim\n",
    "    }\n",
    "    torch.save(checkpoint, f\"checkpoint_epoch_{epoch}.pth\")\n",
    "    print(f\"Saved checkpoint at epoch {epoch}\")\n",
    "\n",
    "# %% [markdown]\n",
    "## Training Loop (GPU Optimized)\n",
    "\n",
    "# %%\n",
    "def validate():\n",
    "    student.eval()\n",
    "    total_ssim = 0.0\n",
    "    count = 0\n",
    "    \n",
    "    with torch.no_grad():\n",
    "        for blur, sharp in test_loader:\n",
    "            blur = blur.to(config.DEVICE, non_blocking=True)\n",
    "            sharp = sharp.to(config.DEVICE, non_blocking=True)\n",
    "            \n",
    "            # Run in full precision for validation\n",
    "            output = student(blur)\n",
    "            \n",
    "            # Clamp output to [0, 1] range for SSIM calculation\n",
    "            output_clamped = output.clamp(0, 1)\n",
    "            \n",
    "            # Convert to float32 for SSIM calculation\n",
    "            total_ssim += ssim(\n",
    "                output_clamped.float(), \n",
    "                sharp.float(), \n",
    "                data_range=1.0\n",
    "            ).item()\n",
    "            count += 1\n",
    "            \n",
    "            if count >= config.BENCHMARK_SIZE:\n",
    "                break\n",
    "    \n",
    "    return total_ssim / count\n",
    "\n",
    "# Training with GPU optimizations\n",
    "best_ssim = 0.0\n",
    "history = {'loss': [], 'ssim': []}\n",
    "\n",
    "# Try to load checkpoint\n",
    "start_epoch = 0\n",
    "checkpoint_files = [f for f in os.listdir() if f.startswith('checkpoint_epoch_')]\n",
    "if checkpoint_files:\n",
    "    latest_checkpoint = max(checkpoint_files, key=os.path.getctime)\n",
    "    print(f\"Resuming from checkpoint: {latest_checkpoint}\")\n",
    "    checkpoint = torch.load(latest_checkpoint, map_location=config.DEVICE)\n",
    "    student.load_state_dict(checkpoint['student_state_dict'])\n",
    "    optimizer.load_state_dict(checkpoint['optimizer_state_dict'])\n",
    "    scheduler.load_state_dict(checkpoint['scheduler_state_dict'])\n",
    "    history = checkpoint['history']\n",
    "    best_ssim = checkpoint['best_ssim']\n",
    "    start_epoch = checkpoint['epoch'] + 1\n",
    "    print(f\"Resuming training from epoch {start_epoch}\")\n",
    "\n",
    "print(\"Starting training...\")\n",
    "for epoch in range(start_epoch, config.NUM_EPOCHS):\n",
    "    student.train()\n",
    "    epoch_loss = 0.0\n",
    "    steps = 0\n",
    "    \n",
    "    # Optimized progress bar\n",
    "    pbar = tqdm(train_loader, desc=f\"Epoch {epoch+1}/{config.NUM_EPOCHS}\", total=len(train_loader))\n",
    "    for blur, sharp in pbar:\n",
    "        # Async data transfer\n",
    "        blur = blur.to(config.DEVICE, non_blocking=True)\n",
    "        sharp = sharp.to(config.DEVICE, non_blocking=True)\n",
    "        \n",
    "        with torch.no_grad():\n",
    "            # Updated autocast API\n",
    "            with torch.amp.autocast(device_type=config.DEVICE.type, dtype=torch.float16):\n",
    "                teacher_out = teacher(blur)\n",
    "        \n",
    "        # Mixed precision training\n",
    "        optimizer.zero_grad(set_to_none=True)\n",
    "        \n",
    "        # Updated autocast API\n",
    "        with torch.amp.autocast(device_type=config.DEVICE.type, dtype=torch.float16):\n",
    "            student_out = student(blur)\n",
    "            loss = criterion(student_out, teacher_out, sharp)\n",
    "        \n",
    "        scaler.scale(loss).backward()\n",
    "        scaler.step(optimizer)\n",
    "        scaler.update()\n",
    "        \n",
    "        epoch_loss += loss.item()\n",
    "        steps += 1\n",
    "        \n",
    "        # Update progress bar\n",
    "        pbar.set_postfix(loss=loss.item())\n",
    "    \n",
    "    # Validation and checkpointing\n",
    "    avg_ssim = validate()\n",
    "    epoch_loss /= len(train_loader)\n",
    "    scheduler.step(avg_ssim)\n",
    "    \n",
    "    history['loss'].append(epoch_loss)\n",
    "    history['ssim'].append(avg_ssim)\n",
    "    \n",
    "    if avg_ssim > best_ssim:\n",
    "        best_ssim = avg_ssim\n",
    "        torch.save(student.state_dict(), config.STUDENT_SAVE_PATH)\n",
    "        print(f\"Saved best model (SSIM: {best_ssim:.4f})\")\n",
    "    \n",
    "    print(f\"Epoch {epoch+1}/{config.NUM_EPOCHS} | Loss: {epoch_loss:.4f} | SSIM: {avg_ssim:.4f}\")\n",
    "    \n",
    "    # Save checkpoint every epoch\n",
    "    save_checkpoint(epoch, history)\n",
    "    \n",
    "    # Manual GPU utilization report\n",
    "    if torch.cuda.is_available():\n",
    "        mem_used = torch.cuda.memory_allocated() / 1024**3\n",
    "        mem_total = torch.cuda.get_device_properties(0).total_memory / 1024**3\n",
    "        print(f\"GPU Memory: {mem_used:.2f}/{mem_total:.2f} GB ({mem_used/mem_total:.1%})\")\n",
    "\n",
    "# Final model save\n",
    "torch.save(student.state_dict(), \"final_student_model.pth\")\n",
    "\n",
    "# %% [markdown]\n",
    "## Evaluation & Results (GPU Optimized)\n",
    "\n",
    "# %%\n",
    "# Load best model\n",
    "student.load_state_dict(torch.load(config.STUDENT_SAVE_PATH))\n",
    "student.eval()\n",
    "\n",
    "# Test SSIM\n",
    "def test_ssim():\n",
    "    total_ssim = 0.0\n",
    "    count = 0\n",
    "    \n",
    "    with torch.no_grad():\n",
    "        for blur, sharp in test_loader:\n",
    "            blur = blur.to(config.DEVICE)\n",
    "            sharp = sharp.to(config.DEVICE)\n",
    "            \n",
    "            output = student(blur)\n",
    "            output_clamped = output.clamp(0, 1)\n",
    "            \n",
    "            # Convert to float32 for SSIM\n",
    "            total_ssim += ssim(\n",
    "                output_clamped.float(), \n",
    "                sharp.float(), \n",
    "                data_range=1.0\n",
    "            ).item()\n",
    "            count += 1\n",
    "            \n",
    "            if count >= config.BENCHMARK_SIZE:\n",
    "                break\n",
    "    \n",
    "    return total_ssim / count\n",
    "\n",
    "# Test speed\n",
    "def test_fps():\n",
    "    student.eval()\n",
    "    dummy_input = torch.randn(1, 3, *config.TARGET_RES).to(config.DEVICE)\n",
    "    \n",
    "    # Warmup\n",
    "    for _ in range(10):\n",
    "        _ = student(dummy_input)\n",
    "    \n",
    "    # Benchmark\n",
    "    start = time.time()\n",
    "    for _ in range(100):\n",
    "        _ = student(dummy_input)\n",
    "    torch.cuda.synchronize()  # Wait for GPU to finish\n",
    "    elapsed = time.time() - start\n",
    "    \n",
    "    return 100 / elapsed\n",
    "\n",
    "# Run evaluation\n",
    "avg_ssim = test_ssim()\n",
    "fps = test_fps()\n",
    "\n",
    "print(f\"\\n{'='*40}\")\n",
    "print(f\"Final Evaluation:\")\n",
    "print(f\"{'='*40}\")\n",
    "print(f\"SSIM: {avg_ssim:.4f}\")\n",
    "print(f\"FPS: {fps:.2f} @ {config.TARGET_RES}\")\n",
    "print(f\"{'='*40}\")\n",
    "\n",
    "# Save visual comparison\n",
    "blur, sharp = next(iter(test_loader))\n",
    "with torch.no_grad():\n",
    "    output = student(blur.to(config.DEVICE)).cpu()\n",
    "\n",
    "def save_tensor_image(tensor, path):\n",
    "    img = tensor.permute(1, 2, 0).numpy()\n",
    "    img = (img * 255).clip(0, 255).astype(np.uint8)\n",
    "    Image.fromarray(img).save(path)\n",
    "\n",
    "save_tensor_image(blur[0], \"debug/input_blurry.jpg\")\n",
    "save_tensor_image(output[0], \"debug/output_sharpened.jpg\")\n",
    "save_tensor_image(sharp[0], \"debug/ground_truth.jpg\")\n",
    "print(\"Saved comparison images to debug/ folder!\")"
   ]
  },
  {
   "cell_type": "code",
   "execution_count": null,
   "id": "8acc4a72-8c2c-4e83-a1d2-cf5f6ca60406",
   "metadata": {},
   "outputs": [],
   "source": []
  }
 ],
 "metadata": {
  "kernelspec": {
   "display_name": "Python [conda env:base] *",
   "language": "python",
   "name": "conda-base-py"
  },
  "language_info": {
   "codemirror_mode": {
    "name": "ipython",
    "version": 3
   },
   "file_extension": ".py",
   "mimetype": "text/x-python",
   "name": "python",
   "nbconvert_exporter": "python",
   "pygments_lexer": "ipython3",
   "version": "3.12.7"
  }
 },
 "nbformat": 4,
 "nbformat_minor": 5
}
